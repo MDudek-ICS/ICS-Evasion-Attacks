{
 "cells": [
  {
   "cell_type": "code",
   "execution_count": 60,
   "metadata": {},
   "outputs": [],
   "source": [
    "import sys\n",
    "sys.path.append('../')\n",
    "from Attacked_Model.autoencoder_BATADAL_for_CNN import load_AEED\n",
    "import pandas as pd\n",
    "from sklearn.metrics import accuracy_score, f1_score, roc_curve, auc, precision_score, recall_score\n",
    "import pickle\n",
    "from sklearn.preprocessing import MinMaxScaler\n",
    "import numpy as np\n",
    "att_data = pd.read_csv('../Data/BATADAL/attack_10_from_test_dataset.csv')\n",
    "\n",
    "# define the column sets for the pandas dataframes\n",
    "xset = [col for col in att_data.columns if col not in ['Unnamed: 0', 'DATETIME', 'ATT_FLAG']]\n",
    "yset = ['ATT_FLAG']\n",
    "model ='LSTM'\n",
    "autoencoder = load_AEED(\"../Attacked_Model/BATADAL/\"+model+\"/\"+model+\".json\", \"../Attacked_Model/BATADAL/\"+model+\"/\"+model+\".h5\")\n",
    "scaler = pickle.load(open(\"../Attacked_Model/BATADAL/\"+model+\"/scaler.p\", \"rb\"))\n",
    "with open(\"../Attacked_Model/BATADAL/\"+model+\"/theta\") as f:\n",
    "        theta = float(f.read())\n",
    "import warnings\n",
    "warnings.filterwarnings('ignore')"
   ]
  },
  {
   "cell_type": "code",
   "execution_count": 61,
   "metadata": {},
   "outputs": [],
   "source": [
    "def compute_scores(Y, Yhat):\n",
    "    return [accuracy_score(Y, Yhat), f1_score(Y, Yhat), precision_score(Y, Yhat), recall_score(Y, Yhat)]#, fpr[0]]"
   ]
  },
  {
   "cell_type": "code",
   "execution_count": 62,
   "metadata": {},
   "outputs": [],
   "source": [
    "def create_dataset(dataset, window_size = 4):\n",
    "    data_X, data_Y = [], []\n",
    "    for i in range(len(dataset) - window_size - 1):\n",
    "        a = dataset[i:(i + window_size + 1)] #remove +1 to turn into 1-step ahead prediction\n",
    "        data_X.append(a)\n",
    "        data_Y.append(dataset[i + window_size])\n",
    "    return(np.array(data_X), np.array(data_Y))"
   ]
  },
  {
   "cell_type": "markdown",
   "metadata": {},
   "source": [
    "# Evaluate Constrained attack over X dimension"
   ]
  },
  {
   "cell_type": "code",
   "execution_count": 63,
   "metadata": {},
   "outputs": [],
   "source": [
    "results_mean_replay = {new_list: 0 for new_list in [2,3,4,5,6,7,8,9,10,15,20,25,30,35,40,43]}\n",
    "#results_mean_white = {new_list: 0 for new_list in [2,3,4,5,6,7,8,9,10,15,20,25,30,35,40,43]}\n",
    "results_mean_black = {new_list: 0 for new_list in [2,3,4,5,6,7,8,9,10,15,20,25,30,35,40,43]}\n",
    "sum_orig = 0\n",
    "results_orig = pd.DataFrame(\n",
    "                           columns=['accuracy', 'f1_score', 'precision', 'recall'])#,'fpr'])\n",
    "for i in range(1,15):\n",
    "    df_test_01 = pd.read_csv('../Data/BATADAL/attack_'+str(i)+'_from_test_dataset.csv', parse_dates = ['DATETIME'], dayfirst=True)\n",
    "    window = 1 \n",
    "    X3 = pd.DataFrame(index=df_test_01.index, columns=xset,\n",
    "                      data=scaler.transform(df_test_01[xset]))\n",
    "    X3, Y3_target = create_dataset(X3.values, window)\n",
    "    Y3 = [1]*len(Y3_target)\n",
    "    Yhat3, _, = autoencoder.detect(X3, Y3_target, theta=theta, window=3, average=True)\n",
    "    \n",
    "    results_orig.loc['orig'+str(i)] = compute_scores(Y3, Yhat3)\n",
    "    sum_orig = sum_orig + results_orig.loc['orig'+str(i)].at['accuracy']\n",
    "    results_replay = {}\n",
    "    #results_white = {}\n",
    "    results_black = {}\n",
    "    for max_concealeble_variables in [2,3,4,5,6,7,8,9,10,15,20,25,30,35,40,43]:\n",
    "            replay = pd.read_csv('../Adversarial_Attacks/Replay_Attack/results/BATADAL/attack_'+str(i)+'_replay_max_'+str(max_concealeble_variables)+\n",
    "                                     '.csv', dayfirst=True)\n",
    "            if not(max_concealeble_variables == 43):\n",
    "                \n",
    "                #white_box = pd.read_csv('../Adversarial_Attacks/Whitebox_Attack/results/BATADAL/max_constraints_fixed/whitebox_attack_'+str(i)+\n",
    "                #                        '_from_test_dataset_max_'+str(max_concealeble_variables)+'.csv', dayfirst=True)\n",
    "                black_box = pd.read_csv('../Adversarial_Attacks/Black_Box_Attack/results/BATADAL/AE_max_concealable_var_'+\n",
    "                                        str(max_concealeble_variables)+\n",
    "                                        '/new_advAE_attack_'+str(i)+'_from_test_dataset_max'+str(max_concealeble_variables)+'.csv', dayfirst=True)\n",
    "            else:\n",
    "                #white_box = pd.read_csv('../Adversarial_Attacks/Whitebox_Attack/results/BATADAL/new_improved_whitebox_attack_'+str(i)+'_from_test_dataset.csv', dayfirst=True)\n",
    "                black_box = pd.read_csv('../Adversarial_Attacks/Black_Box_Attack/results/BATADAL/unconstrained_attack/new_advAE_attack_'+str(i)+'_from_test_dataset.csv', dayfirst=True)\n",
    "            \n",
    "            replay = pd.DataFrame(index=replay.index, columns=xset,\n",
    "                      data=scaler.transform(replay[xset]))\n",
    "            X_replay, Y_replay = create_dataset(replay.values, window)\n",
    "            \n",
    "            #white_box = pd.DataFrame(index=white_box.index, columns=xset,\n",
    "            #          data=scaler.transform(white_box[xset]))\n",
    "            #X_white_box, Y_white_box = create_dataset(white_box.values, window)\n",
    "            \n",
    "            black_box = pd.DataFrame(index=black_box.index, columns=xset,\n",
    "                      data=scaler.transform(black_box[xset]))\n",
    "            X_black_box, Y_black_box = create_dataset(black_box.values, window)\n",
    "            \n",
    "            Y5 = [1]*len(X_replay)\n",
    "            #Y6 = [1]*len(X_white_box)\n",
    "            Y7 = [1]*len(X_black_box)\n",
    "            \n",
    "            Yhat5, _, = autoencoder.detect(X_replay, Y_replay, theta=theta, window=3, average=True)\n",
    "            #Yhat6, _, = autoencoder.detect(X_white_box, Y_white_box, theta=theta, window=3, average=True)\n",
    "            Yhat7, _, = autoencoder.detect(X_black_box, Y_black_box, theta=theta, window=3, average=True)\n",
    "            \n",
    "            results = pd.DataFrame(\n",
    "                           columns=['accuracy', 'f1_score', 'precision', 'recall'])#,'fpr'])\n",
    "            results.loc['replay'] = compute_scores(Y5, Yhat5)\n",
    "            #results.loc['iterative'] = compute_scores(Y6, Yhat6)\n",
    "            results.loc['learning'] = compute_scores(Y7, Yhat7)\n",
    "            \n",
    "            results_replay[max_concealeble_variables] = results.loc['replay'].at['accuracy']\n",
    "            #results_white[max_concealeble_variables] = results.loc['iterative'].at['accuracy']\n",
    "            results_black[max_concealeble_variables] = results.loc['learning'].at['accuracy']  \n",
    "            \n",
    "            results_mean_replay[max_concealeble_variables] =  results_mean_replay[max_concealeble_variables] + results_replay[max_concealeble_variables]\n",
    "            #results_mean_white[max_concealeble_variables] = results_mean_white[max_concealeble_variables] + results_white[max_concealeble_variables]\n",
    "            results_mean_black[max_concealeble_variables] = results_mean_black[max_concealeble_variables] + results_black[max_concealeble_variables]"
   ]
  },
  {
   "cell_type": "code",
   "execution_count": 64,
   "metadata": {},
   "outputs": [],
   "source": [
    "results_attack = pd.DataFrame(columns=[43, 40, 35, 30, 25, 20, 15, 10, 9, 8, 7, 6, 5, 4, 3, 2])\n",
    "for j in [43, 40, 35, 30, 25, 20, 15, 10, 9, 8, 7, 6, 5, 4, 3, 2]:\n",
    "    results_attack.loc['replay', j] = round(results_mean_replay[j]/14, 2)\n",
    "    #results_attack.loc['iterative', j] = round(results_mean_white[j]/14, 2)\n",
    "    results_attack.loc['learning', j] = round(results_mean_black[j]/14, 2)"
   ]
  },
  {
   "cell_type": "code",
   "execution_count": 65,
   "metadata": {},
   "outputs": [
    {
     "name": "stdout",
     "output_type": "stream",
     "text": [
      "Original Accuracy: 0.63\n",
      "Accuracy After Constrained Variables Adversarial Attack\n"
     ]
    },
    {
     "data": {
      "text/html": [
       "<div>\n",
       "<style scoped>\n",
       "    .dataframe tbody tr th:only-of-type {\n",
       "        vertical-align: middle;\n",
       "    }\n",
       "\n",
       "    .dataframe tbody tr th {\n",
       "        vertical-align: top;\n",
       "    }\n",
       "\n",
       "    .dataframe thead th {\n",
       "        text-align: right;\n",
       "    }\n",
       "</style>\n",
       "<table border=\"1\" class=\"dataframe\">\n",
       "  <thead>\n",
       "    <tr style=\"text-align: right;\">\n",
       "      <th></th>\n",
       "      <th>43</th>\n",
       "      <th>40</th>\n",
       "      <th>35</th>\n",
       "      <th>30</th>\n",
       "      <th>25</th>\n",
       "      <th>20</th>\n",
       "      <th>15</th>\n",
       "      <th>10</th>\n",
       "      <th>9</th>\n",
       "      <th>8</th>\n",
       "      <th>7</th>\n",
       "      <th>6</th>\n",
       "      <th>5</th>\n",
       "      <th>4</th>\n",
       "      <th>3</th>\n",
       "      <th>2</th>\n",
       "    </tr>\n",
       "  </thead>\n",
       "  <tbody>\n",
       "    <tr>\n",
       "      <th>replay</th>\n",
       "      <td>0</td>\n",
       "      <td>0.26</td>\n",
       "      <td>0.65</td>\n",
       "      <td>0.72</td>\n",
       "      <td>0.89</td>\n",
       "      <td>0.9</td>\n",
       "      <td>0.86</td>\n",
       "      <td>0.74</td>\n",
       "      <td>0.65</td>\n",
       "      <td>0.74</td>\n",
       "      <td>0.71</td>\n",
       "      <td>0.74</td>\n",
       "      <td>0.68</td>\n",
       "      <td>0.63</td>\n",
       "      <td>0.75</td>\n",
       "      <td>0.69</td>\n",
       "    </tr>\n",
       "    <tr>\n",
       "      <th>learning</th>\n",
       "      <td>0.12</td>\n",
       "      <td>0.14</td>\n",
       "      <td>0.34</td>\n",
       "      <td>0.35</td>\n",
       "      <td>0.35</td>\n",
       "      <td>0.34</td>\n",
       "      <td>0.34</td>\n",
       "      <td>0.29</td>\n",
       "      <td>0.3</td>\n",
       "      <td>0.2</td>\n",
       "      <td>0.22</td>\n",
       "      <td>0.27</td>\n",
       "      <td>0.29</td>\n",
       "      <td>0.38</td>\n",
       "      <td>0.48</td>\n",
       "      <td>0.49</td>\n",
       "    </tr>\n",
       "  </tbody>\n",
       "</table>\n",
       "</div>"
      ],
      "text/plain": [
       "            43    40    35    30    25    20    15    10    9     8     7   \\\n",
       "replay       0  0.26  0.65  0.72  0.89   0.9  0.86  0.74  0.65  0.74  0.71   \n",
       "learning  0.12  0.14  0.34  0.35  0.35  0.34  0.34  0.29   0.3   0.2  0.22   \n",
       "\n",
       "            6     5     4     3     2   \n",
       "replay    0.74  0.68  0.63  0.75  0.69  \n",
       "learning  0.27  0.29  0.38  0.48  0.49  "
      ]
     },
     "execution_count": 65,
     "metadata": {},
     "output_type": "execute_result"
    }
   ],
   "source": [
    "print(\"Original Accuracy: \"+str(round(sum_orig/14,2)))\n",
    "print(\"Accuracy After Constrained Variables Adversarial Attack\")\n",
    "results_attack"
   ]
  },
  {
   "cell_type": "code",
   "execution_count": 66,
   "metadata": {},
   "outputs": [
    {
     "data": {
      "image/png": "[encoded data removed]",
      "text/plain": [
       "<Figure size 432x144 with 1 Axes>"
      ]
     },
     "metadata": {
      "needs_background": "light"
     },
     "output_type": "display_data"
    }
   ],
   "source": [
    "import matplotlib.pyplot  as plt\n",
    "fig, ax = plt.subplots(figsize=(6,2))\n",
    "ax.hlines(y=round(sum_orig/14,2),xmin=0, xmax=43, color='r', linestyles='--',)\n",
    "ax.plot(results_attack.transpose(), 'o-', ['b', 'g'])\n",
    "plt.legend(np.append(results_attack.transpose().columns.values, 'original = '+str(round(sum_orig/14,2))),bbox_to_anchor=(0., 1.02, 1., .102), loc='lower left',\n",
    "           ncol=4, mode=\"expand\", borderaxespad=0.)\n",
    "plt.xticks(np.arange(0, 43, 5.0))\n",
    "plt.ylim(-0.1,1.0)\n",
    "plt.xlabel('# Controlled sensors k')\n",
    "plt.ylabel('Recall')\n",
    "plt.savefig('plot_recall_generizability_CNN_BATADAL.pdf', bbox_inches = \"tight\")\n",
    "plt.show()"
   ]
  },
  {
   "cell_type": "code",
   "execution_count": 67,
   "metadata": {},
   "outputs": [
    {
     "data": {
      "text/plain": [
       "'\\\\begin{tabular}{lllllllllllllllll}\\n\\\\toprule\\n{} &    43 &    40 &    35 &    30 &    25 &    20 &    15 &    10 &    9  &    8  &    7  &    6  &    5  &    4  &    3  &    2  \\\\\\\\\\n\\\\midrule\\nreplay   &     0 &  0.26 &  0.65 &  0.72 &  0.89 &   0.9 &  0.86 &  0.74 &  0.65 &  0.74 &  0.71 &  0.74 &  0.68 &  0.63 &  0.75 &  0.69 \\\\\\\\\\nlearning &  0.12 &  0.14 &  0.34 &  0.35 &  0.35 &  0.34 &  0.34 &  0.29 &   0.3 &   0.2 &  0.22 &  0.27 &  0.29 &  0.38 &  0.48 &  0.49 \\\\\\\\\\n\\\\bottomrule\\n\\\\end{tabular}\\n'"
      ]
     },
     "execution_count": 67,
     "metadata": {},
     "output_type": "execute_result"
    }
   ],
   "source": [
    "results_attack.to_latex()"
   ]
  },
  {
   "cell_type": "code",
   "execution_count": null,
   "metadata": {},
   "outputs": [],
   "source": []
  }
 ],
 "metadata": {
  "kernelspec": {
   "display_name": "Python 3",
   "language": "python",
   "name": "python3"
  },
  "language_info": {
   "codemirror_mode": {
    "name": "ipython",
    "version": 3
   },
   "file_extension": ".py",
   "mimetype": "text/x-python",
   "name": "python",
   "nbconvert_exporter": "python",
   "pygments_lexer": "ipython3",
   "version": "3.7.3"
  }
 },
 "nbformat": 4,
 "nbformat_minor": 2
}
