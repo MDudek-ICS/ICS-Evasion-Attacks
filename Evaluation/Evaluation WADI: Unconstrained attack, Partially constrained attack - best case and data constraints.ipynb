{
 "cells": [
  {
   "cell_type": "code",
   "execution_count": 1,
   "metadata": {},
   "outputs": [
    {
     "name": "stderr",
     "output_type": "stream",
     "text": [
      "Using TensorFlow backend.\n"
     ]
    },
    {
     "name": "stdout",
     "output_type": "stream",
     "text": [
      "../Attacked_Model/WADI/autoencoder.h5\n"
     ]
    },
    {
     "name": "stderr",
     "output_type": "stream",
     "text": [
      "/home/alessando/anaconda3/lib/python3.7/site-packages/sklearn/utils/deprecation.py:144: FutureWarning: The sklearn.preprocessing.data module is  deprecated in version 0.22 and will be removed in version 0.24. The corresponding classes / functions should instead be imported from sklearn.preprocessing. Anything that cannot be imported from sklearn.preprocessing is now part of the private API.\n",
      "  warnings.warn(message, FutureWarning)\n",
      "/home/alessando/anaconda3/lib/python3.7/site-packages/sklearn/base.py:318: UserWarning: Trying to unpickle estimator MinMaxScaler from version 0.19.1 when using version 0.22.1. This might lead to breaking code or invalid results. Use at your own risk.\n",
      "  UserWarning)\n"
     ]
    }
   ],
   "source": [
    "import sys\n",
    "sys.path.append('../')\n",
    "from util import fill_window\n",
    "from Attacked_Model.autoencoder_BATADAL import load_AEED\n",
    "import pandas as pd\n",
    "from sklearn.metrics import accuracy_score, f1_score, roc_curve, auc, precision_score, recall_score\n",
    "import pickle\n",
    "from sklearn.preprocessing import MinMaxScaler\n",
    "import numpy as np\n",
    "dataset = 'WADI'\n",
    "data_folder = '../Data/'+dataset\n",
    "att_data = pd.read_csv(data_folder+'/attack_1_from_test_dataset.csv')\n",
    "xset = [col for col in att_data.columns if col not in [\n",
    "        'Row', 'DATETIME','ATT_FLAG', '2_MV_001_STATUS', '2_LT_001_PV', '2_MV_002_STATUS']]\n",
    "\n",
    "yset = ['ATT_FLAG']\n",
    "autoencoder = load_AEED(\"../Attacked_Model/\"+dataset+\"/autoencoder.json\", \"../Attacked_Model/\"+dataset+\"/autoencoder.h5\")\n",
    "scaler = pickle.load(open(\"../Attacked_Model/\"+dataset+\"/scaler.p\", \"rb\"))\n",
    "with open(\"../Attacked_Model/\"+dataset+\"/theta\") as f:\n",
    "        theta = float(f.read())\n",
    "import warnings\n",
    "warnings.filterwarnings('ignore')"
   ]
  },
  {
   "cell_type": "code",
   "execution_count": 2,
   "metadata": {},
   "outputs": [],
   "source": [
    "def compute_scores(Y, Yhat):\n",
    "    Y = Y.drop(Y.index[0:60])\n",
    "    Yhat = Yhat.drop(Yhat.index[0:60])\n",
    "    return [accuracy_score(Y, Yhat), f1_score(Y, Yhat), precision_score(Y, Yhat), recall_score(Y, Yhat)]#, fpr[0]]"
   ]
  },
  {
   "cell_type": "markdown",
   "metadata": {},
   "source": [
    "# Evaluate Constrained attack over X dimension"
   ]
  },
  {
   "cell_type": "code",
   "execution_count": 3,
   "metadata": {},
   "outputs": [],
   "source": [
    "results_mean_replay = {new_list: 0 for new_list in [2,3,4,5,6,7,8,9,10,15,20,30,40,50,60,70,80,82]}\n",
    "results_mean_white = {new_list: 0 for new_list in [2,3,4,5,6,7,8,9,10,15,20,30,40,50,60,70,80,82]}\n",
    "results_mean_black = {new_list: 0 for new_list in [2,3,4,5,6,7,8,9,10,15,20,30,40,50,60,70,80,82]}\n",
    "sum_orig = 0\n",
    "\n",
    "original_data = pd.read_csv('../Data/'+dataset+'/attacks_october_clean_with_label.csv', parse_dates = ['DATETIME'], dayfirst=True)\n",
    "original_data = original_data.set_index('DATETIME')\n",
    "\n",
    "for i in [1,2,3,5,6,7,8,9,10,11,12,13,14,15]:\n",
    "    df_test_01 = pd.read_csv('../Data/'+dataset+'/attack_'+str(i)+'_from_test_dataset.csv', parse_dates = ['DATETIME'], dayfirst=True)\n",
    "    df_test_01 = fill_window(original_data, df_test_01, i, 60)\n",
    "    X3 = pd.DataFrame(index=df_test_01.index, columns=xset,\n",
    "                      data=scaler.transform(df_test_01[xset])) \n",
    "    Y3 = df_test_01[yset]\n",
    "    Yhat3, _, _, _ = autoencoder.detect(X3, theta=theta, window=60, average=True)\n",
    "    results_orig = pd.DataFrame(\n",
    "                           columns=['accuracy', 'f1_score', 'precision', 'recall'])#,'fpr'])\n",
    "    results_orig.loc['orig'] = compute_scores(Y3, Yhat3)\n",
    "    sum_orig = sum_orig + results_orig.loc['orig'].at['accuracy']\n",
    "    results_replay = {}\n",
    "    results_white = {}\n",
    "    results_black = {}\n",
    "    for max_concealeble_variables in [2,3,4,5,6,7,8,9,10,15,20,30,40,50,60,70,80,82]:\n",
    "            replay = pd.read_csv('../Adversarial_Attacks/Replay_Attack/results/'+dataset+'/attack_'+str(i)+\n",
    "                                        '_replay_max_'+str(max_concealeble_variables)+'.csv', dayfirst=True)\n",
    "            if not(max_concealeble_variables == 82):\n",
    "                white_box = pd.read_csv('../Adversarial_Attacks/Whitebox_Attack/results/'+dataset+'/max_constraints_fixed/whitebox_attack_'+str(i)+\n",
    "                                        '_from_test_dataset_max_'+str(max_concealeble_variables)+'.csv', dayfirst=True)\n",
    "                black_box = pd.read_csv('../Adversarial_Attacks/Black_Box_Attack/results/'+dataset+'/AE_max_concealable_var_'+\n",
    "                                        str(max_concealeble_variables)+\n",
    "                                        '/new_advAE_attack_'+str(i)+'_from_test_dataset_max'+str(max_concealeble_variables)+'.csv', dayfirst=True)\n",
    "            else:\n",
    "                white_box = pd.read_csv('../Adversarial_Attacks/Whitebox_Attack/results/'+dataset+'/unconstrained_attack/new_improved_whitebox_attack_'+str(i)+'_from_test_dataset.csv', dayfirst=True)\n",
    "                black_box = pd.read_csv('../Adversarial_Attacks/Black_Box_Attack/results/'+dataset+'/unconstrained_attack/new_advAE_attack_'+str(i)+'_from_test_dataset.csv', dayfirst=True)\n",
    "                          \n",
    "            \n",
    "            replay = fill_window(original_data, replay, i, 60)\n",
    "            white_box = fill_window(original_data, white_box, i, 60)\n",
    "            black_box = fill_window(original_data, black_box, i, 60)\n",
    "            replay = pd.DataFrame(index=replay.index, columns=xset,\n",
    "                      data=scaler.transform(replay[xset]))\n",
    "            white_box = pd.DataFrame(index=white_box.index, columns=xset,\n",
    "                      data=scaler.transform(white_box[xset]))\n",
    "            black_box = pd.DataFrame(index=black_box.index, columns=xset,\n",
    "                      data=scaler.transform(black_box[xset]))\n",
    "\n",
    "            Y4 = Y3#[1]*len(replay)\n",
    "            Y5 = Y3#[1]*len(white_box)\n",
    "            Y6 = Y3#[1]*len(black_box)\n",
    "            \n",
    "            Yhat4, _, _, _ = autoencoder.detect(replay, theta=theta, window=60, average=True)\n",
    "            Yhat5, _, _, _ = autoencoder.detect(white_box, theta=theta, window=60, average=True)\n",
    "            Yhat6, _, _, _ = autoencoder.detect(black_box, theta=theta, window=60, average=True)\n",
    "            \n",
    "            results = pd.DataFrame(\n",
    "                           columns=['accuracy', 'f1_score', 'precision', 'recall'])#,'fpr'])\n",
    "            #results.loc['original'] = compute_scores(Y3, Yhat3)\n",
    "            results.loc['replay'] = compute_scores(Y4, Yhat4)\n",
    "            results.loc['white'] = compute_scores(Y5, Yhat5)\n",
    "            results.loc['black'] = compute_scores(Y6, Yhat6)\n",
    "            \n",
    "            \n",
    "            #print(i, max_concealeble_variables)\n",
    "            #print(results)\n",
    "            \n",
    "            results_replay[max_concealeble_variables] = results.loc['replay'].at['recall']\n",
    "            results_white[max_concealeble_variables] = results.loc['white'].at['recall']\n",
    "            results_black[max_concealeble_variables] = results.loc['black'].at['recall']  \n",
    "            \n",
    "            results_mean_replay[max_concealeble_variables] = results_mean_replay[max_concealeble_variables] + results_replay[max_concealeble_variables]\n",
    "            results_mean_white[max_concealeble_variables] = results_mean_white[max_concealeble_variables] + results_white[max_concealeble_variables]\n",
    "            results_mean_black[max_concealeble_variables] = results_mean_black[max_concealeble_variables] + results_black[max_concealeble_variables]"
   ]
  },
  {
   "cell_type": "code",
   "execution_count": 4,
   "metadata": {},
   "outputs": [],
   "source": [
    "results_attack = pd.DataFrame(columns=[82,80,70,60,50,40,30,20,15,10,9,8,7,6,5,4,3,2])\n",
    "for j in [82,80,70,60,50,40,30,20,15,10,9,8,7,6,5,4,3,2]:\n",
    "    results_attack.loc['replay', j] = round(results_mean_replay[j]/14, 2)\n",
    "    results_attack.loc['white', j] = round(results_mean_white[j]/14, 2)\n",
    "    results_attack.loc['black', j] = round(results_mean_black[j]/14, 2)"
   ]
  },
  {
   "cell_type": "code",
   "execution_count": 5,
   "metadata": {},
   "outputs": [
    {
     "name": "stdout",
     "output_type": "stream",
     "text": [
      "Original Recall: 0.68\n",
      "Recall After Constrained Variables Adversarial Attack\n"
     ]
    },
    {
     "data": {
      "text/html": [
       "<div>\n",
       "<style scoped>\n",
       "    .dataframe tbody tr th:only-of-type {\n",
       "        vertical-align: middle;\n",
       "    }\n",
       "\n",
       "    .dataframe tbody tr th {\n",
       "        vertical-align: top;\n",
       "    }\n",
       "\n",
       "    .dataframe thead th {\n",
       "        text-align: right;\n",
       "    }\n",
       "</style>\n",
       "<table border=\"1\" class=\"dataframe\">\n",
       "  <thead>\n",
       "    <tr style=\"text-align: right;\">\n",
       "      <th></th>\n",
       "      <th>82</th>\n",
       "      <th>80</th>\n",
       "      <th>70</th>\n",
       "      <th>60</th>\n",
       "      <th>50</th>\n",
       "      <th>40</th>\n",
       "      <th>30</th>\n",
       "      <th>20</th>\n",
       "      <th>15</th>\n",
       "      <th>10</th>\n",
       "      <th>9</th>\n",
       "      <th>8</th>\n",
       "      <th>7</th>\n",
       "      <th>6</th>\n",
       "      <th>5</th>\n",
       "      <th>4</th>\n",
       "      <th>3</th>\n",
       "      <th>2</th>\n",
       "    </tr>\n",
       "  </thead>\n",
       "  <tbody>\n",
       "    <tr>\n",
       "      <th>replay</th>\n",
       "      <td>0.07</td>\n",
       "      <td>0.15</td>\n",
       "      <td>0.55</td>\n",
       "      <td>0.7</td>\n",
       "      <td>0.74</td>\n",
       "      <td>0.79</td>\n",
       "      <td>0.89</td>\n",
       "      <td>0.87</td>\n",
       "      <td>0.85</td>\n",
       "      <td>0.65</td>\n",
       "      <td>0.64</td>\n",
       "      <td>0.62</td>\n",
       "      <td>0.62</td>\n",
       "      <td>0.62</td>\n",
       "      <td>0.6</td>\n",
       "      <td>0.44</td>\n",
       "      <td>0.4</td>\n",
       "      <td>0.49</td>\n",
       "    </tr>\n",
       "    <tr>\n",
       "      <th>white</th>\n",
       "      <td>0.07</td>\n",
       "      <td>0.07</td>\n",
       "      <td>0.07</td>\n",
       "      <td>0.07</td>\n",
       "      <td>0.07</td>\n",
       "      <td>0.07</td>\n",
       "      <td>0.07</td>\n",
       "      <td>0.07</td>\n",
       "      <td>0.07</td>\n",
       "      <td>0.08</td>\n",
       "      <td>0.09</td>\n",
       "      <td>0.12</td>\n",
       "      <td>0.12</td>\n",
       "      <td>0.12</td>\n",
       "      <td>0.12</td>\n",
       "      <td>0.12</td>\n",
       "      <td>0.14</td>\n",
       "      <td>0.25</td>\n",
       "    </tr>\n",
       "    <tr>\n",
       "      <th>black</th>\n",
       "      <td>0.31</td>\n",
       "      <td>0.31</td>\n",
       "      <td>0.31</td>\n",
       "      <td>0.4</td>\n",
       "      <td>0.4</td>\n",
       "      <td>0.4</td>\n",
       "      <td>0.45</td>\n",
       "      <td>0.41</td>\n",
       "      <td>0.41</td>\n",
       "      <td>0.32</td>\n",
       "      <td>0.36</td>\n",
       "      <td>0.36</td>\n",
       "      <td>0.36</td>\n",
       "      <td>0.34</td>\n",
       "      <td>0.27</td>\n",
       "      <td>0.27</td>\n",
       "      <td>0.27</td>\n",
       "      <td>0.29</td>\n",
       "    </tr>\n",
       "  </tbody>\n",
       "</table>\n",
       "</div>"
      ],
      "text/plain": [
       "          82    80    70    60    50    40    30    20    15    10    9   \\\n",
       "replay  0.07  0.15  0.55   0.7  0.74  0.79  0.89  0.87  0.85  0.65  0.64   \n",
       "white   0.07  0.07  0.07  0.07  0.07  0.07  0.07  0.07  0.07  0.08  0.09   \n",
       "black   0.31  0.31  0.31   0.4   0.4   0.4  0.45  0.41  0.41  0.32  0.36   \n",
       "\n",
       "          8     7     6     5     4     3     2   \n",
       "replay  0.62  0.62  0.62   0.6  0.44   0.4  0.49  \n",
       "white   0.12  0.12  0.12  0.12  0.12  0.14  0.25  \n",
       "black   0.36  0.36  0.34  0.27  0.27  0.27  0.29  "
      ]
     },
     "execution_count": 5,
     "metadata": {},
     "output_type": "execute_result"
    }
   ],
   "source": [
    "print(\"Original Recall: \"+str(round(sum_orig/14,2)))\n",
    "print(\"Recall After Constrained Variables Adversarial Attack\")\n",
    "results_attack"
   ]
  },
  {
   "cell_type": "code",
   "execution_count": 6,
   "metadata": {},
   "outputs": [
    {
     "data": {
      "text/plain": [
       "<Figure size 432x288 with 0 Axes>"
      ]
     },
     "metadata": {},
     "output_type": "display_data"
    },
    {
     "data": {
      "image/png": "[encoded data removed]",
      "text/plain": [
       "<Figure size 432x144 with 1 Axes>"
      ]
     },
     "metadata": {
      "needs_background": "light"
     },
     "output_type": "display_data"
    }
   ],
   "source": [
    "import matplotlib.pyplot as plt\n",
    "legend = ['replay', 'iterative', 'learning']\n",
    "plt.tight_layout()\n",
    "fig, ax = plt.subplots(figsize=(6,2))\n",
    "ax.hlines(y=round(sum_orig/14,2),xmin=0, xmax=82, color='r', linestyles='--',)\n",
    "ax.plot(results_attack.transpose(), 'o-')\n",
    "plt.xticks(np.arange(0, 82, 10))\n",
    "plt.ylim(-0.11,1.0)\n",
    "plt.legend(np.append(legend, 'original = '+str(round(sum_orig/14,2))),bbox_to_anchor=(0., 1.02, 1., .102), loc='lower left',\n",
    "           ncol=4, mode=\"expand\", borderaxespad=0.)\n",
    "#plt.title('Recall score after constrained attack')\n",
    "plt.xlabel('# Controlled sensors k')\n",
    "plt.ylabel('Recall')\n",
    "plt.savefig('plot_recall_WADI.pdf', bbox_inches = \"tight\")\n",
    "plt.show()"
   ]
  },
  {
   "cell_type": "code",
   "execution_count": 7,
   "metadata": {},
   "outputs": [
    {
     "name": "stdout",
     "output_type": "stream",
     "text": [
      "0.93\n"
     ]
    }
   ],
   "source": [
    "def line_intersection(line1, line2):\n",
    "    xdiff = (line1[0][0] - line1[1][0], line2[0][0] - line2[1][0])\n",
    "    ydiff = (line1[0][1] - line1[1][1], line2[0][1] - line2[1][1])\n",
    "\n",
    "    def det(a, b):\n",
    "        return a[0] * b[1] - a[1] * b[0]\n",
    "\n",
    "    div = det(xdiff, ydiff)\n",
    "    if div == 0:\n",
    "       raise Exception('lines do not intersect')\n",
    "\n",
    "    d = (det(*line1), det(*line2))\n",
    "    x = det(d, xdiff) / div\n",
    "    y = det(d, ydiff) / div\n",
    "    return x, y\n",
    "A = [70, results_attack[70]['black']]\n",
    "B = [80, results_attack[80]['black']]\n",
    "C = [70, results_attack[70]['replay']]\n",
    "D = [80, results_attack[80]['replay']]\n",
    "#print(line_intersection((A,B), (C, D)))\n",
    "x, _ = line_intersection((A,B), (C, D))\n",
    "print(round(x/82, 2))"
   ]
  },
  {
   "cell_type": "code",
   "execution_count": 8,
   "metadata": {},
   "outputs": [
    {
     "data": {
      "text/plain": [
       "'\\\\begin{tabular}{lllllllllllllllllll}\\n\\\\toprule\\n{} &    82 &    80 &    70 &    60 &    50 &    40 &    30 &    20 &    15 &    10 &    9  &    8  &    7  &    6  &    5  &    4  &    3  &    2  \\\\\\\\\\n\\\\midrule\\nreplay &  0.07 &  0.15 &  0.55 &   0.7 &  0.74 &  0.79 &  0.89 &  0.87 &  0.85 &  0.65 &  0.64 &  0.62 &  0.62 &  0.62 &   0.6 &  0.44 &   0.4 &  0.49 \\\\\\\\\\nwhite  &  0.07 &  0.07 &  0.07 &  0.07 &  0.07 &  0.07 &  0.07 &  0.07 &  0.07 &  0.08 &  0.09 &  0.12 &  0.12 &  0.12 &  0.12 &  0.12 &  0.14 &  0.25 \\\\\\\\\\nblack  &  0.31 &  0.31 &  0.31 &   0.4 &   0.4 &   0.4 &  0.45 &  0.41 &  0.41 &  0.32 &  0.36 &  0.36 &  0.36 &  0.34 &  0.27 &  0.27 &  0.27 &  0.29 \\\\\\\\\\n\\\\bottomrule\\n\\\\end{tabular}\\n'"
      ]
     },
     "execution_count": 8,
     "metadata": {},
     "output_type": "execute_result"
    }
   ],
   "source": [
    "results_attack.to_latex()"
   ]
  },
  {
   "cell_type": "markdown",
   "metadata": {},
   "source": [
    "# Evaluate Constrained Attack over D dimension"
   ]
  },
  {
   "cell_type": "code",
   "execution_count": 9,
   "metadata": {},
   "outputs": [],
   "source": [
    "results_mean_percentage_reduced = {new_list: [] for new_list in [5, 10, 25, 50, 75]}#['5%', '10%', '25%', '50%', '75%']}\n",
    "results_percentage_reduced = {}\n",
    "accuracy = {}\n",
    "for percentage in [5, 10, 25, 50, 75]:\n",
    "    accuracy[percentage] = {}\n",
    "    for seed in [0, 1, 12, 123, 1234, 12345, 123456, 1234567, 12345678, 123456789]:\n",
    "        for i in [1,2,3,5,6,7,8,9,10,11,12,13,14,15]:\n",
    "\n",
    "            dataset = pd.read_csv('../Adversarial_Attacks/Black_Box_Attack/results/WADI/AE_'+str(percentage)\n",
    "                                    +'_percent/seed_'+str(seed)+'/new_advAE_attack_'+str(i)+'_from_test_dataset.csv'\n",
    "                                    , dayfirst=True)\n",
    "            dataset = fill_window(original_data, dataset, i, 60)\n",
    "            \n",
    "            dataset = pd.DataFrame(index=dataset.index, columns=xset,\n",
    "                      data=scaler.transform(dataset[xset]))\n",
    "            Y7  = pd.DataFrame([1]*len(dataset))\n",
    "            Yhat7, _, _, _ = autoencoder.detect(dataset, theta=theta, window=3, average=True)\n",
    "            \n",
    "            results = pd.DataFrame(\n",
    "                           columns=['accuracy', 'f1_score', 'precision', 'recall'])\n",
    "            results.loc['percentage'] = compute_scores(Y7, Yhat7) \n",
    "            \n",
    "            try:\n",
    "                  accuracy[percentage]['att_'+str(i)].append(results.loc['percentage'].at['accuracy'])                              \n",
    "            except:\n",
    "                accuracy[percentage]['att_'+str(i)] = []\n",
    "                accuracy[percentage]['att_'+str(i)].append(results.loc['percentage'].at['accuracy'])\n",
    "    mean=[]\n",
    "    std = []\n",
    "    for i in [1,2,3,5,6,7,8,9,10,11,12,13,14,15]:\n",
    "        mean.append(np.mean(accuracy[percentage]['att_'+str(i)]))\n",
    "        std.append(np.std(accuracy[percentage]['att_'+str(i)]))\n",
    "    \n",
    "    results_mean_percentage_reduced[percentage].append(np.mean(mean))\n",
    "    results_mean_percentage_reduced[percentage].append(np.mean(std))\n",
    "\n",
    "results_mean_percentage_reduced=pd.DataFrame.from_dict(results_mean_percentage_reduced, orient='index', columns = ['mean', 'std'])"
   ]
  },
  {
   "cell_type": "code",
   "execution_count": 10,
   "metadata": {},
   "outputs": [
    {
     "name": "stdout",
     "output_type": "stream",
     "text": [
      "Accuracy after Constrained Attack over D Dimension\n"
     ]
    },
    {
     "data": {
      "text/html": [
       "<div>\n",
       "<style scoped>\n",
       "    .dataframe tbody tr th:only-of-type {\n",
       "        vertical-align: middle;\n",
       "    }\n",
       "\n",
       "    .dataframe tbody tr th {\n",
       "        vertical-align: top;\n",
       "    }\n",
       "\n",
       "    .dataframe thead th {\n",
       "        text-align: right;\n",
       "    }\n",
       "</style>\n",
       "<table border=\"1\" class=\"dataframe\">\n",
       "  <thead>\n",
       "    <tr style=\"text-align: right;\">\n",
       "      <th></th>\n",
       "      <th>mean</th>\n",
       "      <th>std</th>\n",
       "    </tr>\n",
       "  </thead>\n",
       "  <tbody>\n",
       "    <tr>\n",
       "      <th>5</th>\n",
       "      <td>0.24</td>\n",
       "      <td>0.06</td>\n",
       "    </tr>\n",
       "    <tr>\n",
       "      <th>10</th>\n",
       "      <td>0.24</td>\n",
       "      <td>0.04</td>\n",
       "    </tr>\n",
       "    <tr>\n",
       "      <th>25</th>\n",
       "      <td>0.24</td>\n",
       "      <td>0.03</td>\n",
       "    </tr>\n",
       "    <tr>\n",
       "      <th>50</th>\n",
       "      <td>0.26</td>\n",
       "      <td>0.01</td>\n",
       "    </tr>\n",
       "    <tr>\n",
       "      <th>75</th>\n",
       "      <td>0.27</td>\n",
       "      <td>0.06</td>\n",
       "    </tr>\n",
       "  </tbody>\n",
       "</table>\n",
       "</div>"
      ],
      "text/plain": [
       "    mean   std\n",
       "5   0.24  0.06\n",
       "10  0.24  0.04\n",
       "25  0.24  0.03\n",
       "50  0.26  0.01\n",
       "75  0.27  0.06"
      ]
     },
     "execution_count": 10,
     "metadata": {},
     "output_type": "execute_result"
    }
   ],
   "source": [
    "print(\"Accuracy after Constrained Attack over D Dimension\")\n",
    "results_mean_percentage_reduced.round(2)"
   ]
  },
  {
   "cell_type": "code",
   "execution_count": null,
   "metadata": {},
   "outputs": [],
   "source": []
  }
 ],
 "metadata": {
  "kernelspec": {
   "display_name": "Python 3",
   "language": "python",
   "name": "python3"
  },
  "language_info": {
   "codemirror_mode": {
    "name": "ipython",
    "version": 3
   },
   "file_extension": ".py",
   "mimetype": "text/x-python",
   "name": "python",
   "nbconvert_exporter": "python",
   "pygments_lexer": "ipython3",
   "version": "3.7.3"
  }
 },
 "nbformat": 4,
 "nbformat_minor": 2
}
